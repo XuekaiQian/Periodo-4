{
  "nbformat": 4,
  "nbformat_minor": 0,
  "metadata": {
    "colab": {
      "provenance": [],
      "authorship_tag": "ABX9TyPFeYmmXRhG8Tx4jH9SlQ8J",
      "include_colab_link": true
    },
    "kernelspec": {
      "name": "python3",
      "display_name": "Python 3"
    },
    "language_info": {
      "name": "python"
    }
  },
  "cells": [
    {
      "cell_type": "markdown",
      "metadata": {
        "id": "view-in-github",
        "colab_type": "text"
      },
      "source": [
        "<a href=\"https://colab.research.google.com/github/XuekaiQian/Periodo-4/blob/main/%E2%80%9Cformas_normais_ipynb%E2%80%9D.ipynb\" target=\"_parent\"><img src=\"https://colab.research.google.com/assets/colab-badge.svg\" alt=\"Open In Colab\"/></a>"
      ]
    },
    {
      "cell_type": "code",
      "source": [
        "#Alunos: Marcelo Wzorek, Rafael Leal, Raphael de Oliveira, Xuekai Qian\n",
        "#Feito no código : FNC e FND, Transformações X\n",
        "from google.colab import files\n",
        "from IPython.display import display, Math"
      ],
      "metadata": {
        "id": "2N90SHYEBSlA"
      },
      "execution_count": null,
      "outputs": []
    },
    {
      "cell_type": "code",
      "source": [
        "uploaded_file = files.upload()"
      ],
      "metadata": {
        "id": "1ypRIW78Bl2d",
        "colab": {
          "base_uri": "https://localhost:8080/",
          "height": 178
        },
        "outputId": "1eed5423-3713-4987-f353-079283c249e5"
      },
      "execution_count": null,
      "outputs": [
        {
          "output_type": "error",
          "ename": "NameError",
          "evalue": "ignored",
          "traceback": [
            "\u001b[0;31m---------------------------------------------------------------------------\u001b[0m",
            "\u001b[0;31mNameError\u001b[0m                                 Traceback (most recent call last)",
            "\u001b[0;32m<ipython-input-3-df0b9732027b>\u001b[0m in \u001b[0;36m<cell line: 1>\u001b[0;34m()\u001b[0m\n\u001b[0;32m----> 1\u001b[0;31m \u001b[0muploaded_file\u001b[0m \u001b[0;34m=\u001b[0m \u001b[0mfiles\u001b[0m\u001b[0;34m.\u001b[0m\u001b[0mupload\u001b[0m\u001b[0;34m(\u001b[0m\u001b[0;34m)\u001b[0m\u001b[0;34m\u001b[0m\u001b[0;34m\u001b[0m\u001b[0m\n\u001b[0m",
            "\u001b[0;31mNameError\u001b[0m: name 'files' is not defined"
          ]
        }
      ]
    },
    {
      "cell_type": "code",
      "source": [
        "file_name = list(uploaded_file.keys())[0]\n",
        "with open(file_name, 'r') as file:\n",
        "\n",
        "    formulas = file.readlines()"
      ],
      "metadata": {
        "colab": {
          "base_uri": "https://localhost:8080/",
          "height": 230
        },
        "id": "uNfzKzqyG7TN",
        "outputId": "68180aaa-d7ef-4302-c36b-94df3d70369f"
      },
      "execution_count": null,
      "outputs": [
        {
          "output_type": "error",
          "ename": "NameError",
          "evalue": "ignored",
          "traceback": [
            "\u001b[0;31m---------------------------------------------------------------------------\u001b[0m",
            "\u001b[0;31mNameError\u001b[0m                                 Traceback (most recent call last)",
            "\u001b[0;32m<ipython-input-2-697792a97063>\u001b[0m in \u001b[0;36m<cell line: 1>\u001b[0;34m()\u001b[0m\n\u001b[0;32m----> 1\u001b[0;31m \u001b[0mfile_name\u001b[0m \u001b[0;34m=\u001b[0m \u001b[0mlist\u001b[0m\u001b[0;34m(\u001b[0m\u001b[0muploaded_file\u001b[0m\u001b[0;34m.\u001b[0m\u001b[0mkeys\u001b[0m\u001b[0;34m(\u001b[0m\u001b[0;34m)\u001b[0m\u001b[0;34m)\u001b[0m\u001b[0;34m[\u001b[0m\u001b[0;36m0\u001b[0m\u001b[0;34m]\u001b[0m\u001b[0;34m\u001b[0m\u001b[0;34m\u001b[0m\u001b[0m\n\u001b[0m\u001b[1;32m      2\u001b[0m \u001b[0;32mwith\u001b[0m \u001b[0mopen\u001b[0m\u001b[0;34m(\u001b[0m\u001b[0mfile_name\u001b[0m\u001b[0;34m,\u001b[0m \u001b[0;34m'r'\u001b[0m\u001b[0;34m)\u001b[0m \u001b[0;32mas\u001b[0m \u001b[0mfile\u001b[0m\u001b[0;34m:\u001b[0m\u001b[0;34m\u001b[0m\u001b[0;34m\u001b[0m\u001b[0m\n\u001b[1;32m      3\u001b[0m \u001b[0;34m\u001b[0m\u001b[0m\n\u001b[1;32m      4\u001b[0m     \u001b[0mformulas\u001b[0m \u001b[0;34m=\u001b[0m \u001b[0mfile\u001b[0m\u001b[0;34m.\u001b[0m\u001b[0mreadlines\u001b[0m\u001b[0;34m(\u001b[0m\u001b[0;34m)\u001b[0m\u001b[0;34m\u001b[0m\u001b[0;34m\u001b[0m\u001b[0m\n",
            "\u001b[0;31mNameError\u001b[0m: name 'uploaded_file' is not defined"
          ]
        }
      ]
    },
    {
      "cell_type": "code",
      "source": [
        "def parse(formula):\n",
        "    operadores = {\n",
        "        \"\\wedge\": \" ∧ \",\n",
        "        \"\\vee\": \" ∨ \",\n",
        "        \"\\neg\": \" ~ \",\n",
        "        \"\\rightarrow\": \" -> \",\n",
        "        \"\\leftrightarrow\": \" <-> \",\n",
        "        \"\\forall\": \" ∀ \",\n",
        "        \"\\exists\": \" ∃ \",\n",
        "        \"\\equiv\": \" ≡ \"\n",
        "    }\n",
        "    formula = formula.replace(\" \", \"\")\n",
        "    for latex_op, symbol in operadores.items():\n",
        "        formula = formula.replace(latex_op, symbol)\n",
        "    return formula\n",
        "\n",
        "def FNC(formula):\n",
        "    stack = []\n",
        "    parte_A = \"\"\n",
        "    parte_B = \"\"\n",
        "\n",
        "    for char in formula:\n",
        "        if char == '(':\n",
        "            stack.append('(')\n",
        "        elif char == ')':\n",
        "            if len(stack) > 0:\n",
        "                stack.pop()\n",
        "        if len(stack) == 0:\n",
        "            parte_A += char\n",
        "        else:\n",
        "            parte_B += char\n",
        "\n",
        "    return parte_A, parte_B\n",
        "\n",
        "def FND(formula):\n",
        "    stack = []\n",
        "    parte_A = \"\"\n",
        "    parte_B = \"\"\n",
        "\n",
        "    for char in formula:\n",
        "        if char == '(':\n",
        "            stack.append('(')\n",
        "        elif char == ')':\n",
        "            if len(stack) > 0:\n",
        "                stack.pop()\n",
        "        if len(stack) == 0:\n",
        "            parte_A += char\n",
        "        else:\n",
        "            parte_B += char\n",
        "\n",
        "    conjuntos = []\n",
        "    conj_B = parte_B.split(\"∧\")\n",
        "    for conj in conj_B:\n",
        "        conj = conj.strip()\n",
        "        if \"∨\" in conj:\n",
        "            disjuntos = conj.split(\"∨\")\n",
        "            conjuntos.append(disjuntos)\n",
        "        else:\n",
        "            conjuntos.append([conj])\n",
        "\n",
        "    conj_A = parte_A.split(\"∧\")\n",
        "    for i in range(len(conj_A)):\n",
        "        conj = conj_A[i].strip()\n",
        "        if \"∨\" in conj:\n",
        "            disjuntos = conj.split(\"∨\")\n",
        "            for disj in disjuntos:\n",
        "                novo_conjunto = []\n",
        "                novo_conjunto.extend(conjuntos)\n",
        "                novo_conjunto.append([disj])\n",
        "                conjuntos.append(novo_conjunto)\n",
        "        else:\n",
        "            for conjunto in conjuntos:\n",
        "                conjunto.append([conj])\n",
        "\n",
        "    result = []\n",
        "    for conjunto in conjuntos:\n",
        "        disj = \" ∨ \".join([\"(\" + \" ∧ \".join(disjuntos) + \")\" for disjuntos in conjunto])\n",
        "        result.append(\"(\" + disj + \")\")\n",
        "\n",
        "    return \" ∧ \".join(result)\n",
        "\n",
        "if __name__ == '__main__':\n",
        "    file_name = 'formulas.txt'\n",
        "\n",
        "    with open(file_name, 'r') as file:\n",
        "        formulas = file.readlines()\n",
        "\n",
        "    for formula in formulas:\n",
        "        print(f'Fórmula original: {formula}')\n",
        "\n",
        "        parsed_formula = parse(formula)\n",
        "        print(f'Fórmula convertida: {parsed_formula}')\n",
        "\n",
        "        forma_fnc_parte_A, forma_fnc_parte_B = FNC(parsed_formula)\n",
        "        print(f'Forma Normal Conjuntiva - Parte A: {forma_fnc_parte_A}')\n",
        "        print(f'Forma Normal Conjuntiva - Parte B: {forma_fnc_parte_B}')\n",
        "\n",
        "        forma_fnd = FND(parsed_formula)\n",
        "        print(f'Forma Normal Disjuntiva: {forma_fnd}')\n"
      ],
      "metadata": {
        "id": "FfQr931NICrJ"
      },
      "execution_count": null,
      "outputs": []
    }
  ]
}